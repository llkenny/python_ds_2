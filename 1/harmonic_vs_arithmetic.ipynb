{
 "cells": [
  {
   "cell_type": "code",
   "execution_count": 1,
   "metadata": {},
   "outputs": [],
   "source": [
    "z1 = range(0, 10)"
   ]
  },
  {
   "cell_type": "code",
   "execution_count": 2,
   "metadata": {},
   "outputs": [
    {
     "data": {
      "text/plain": [
       "[0.1,\n",
       " 0.2,\n",
       " 0.30000000000000004,\n",
       " 0.4,\n",
       " 0.5,\n",
       " 0.6,\n",
       " 0.7000000000000001,\n",
       " 0.8,\n",
       " 0.9,\n",
       " 1.0]"
      ]
     },
     "execution_count": 2,
     "metadata": {},
     "output_type": "execute_result"
    }
   ],
   "source": [
    "p1 = [0.1+z*0.1 for z in z1]\n",
    "p1"
   ]
  },
  {
   "cell_type": "code",
   "execution_count": 3,
   "metadata": {},
   "outputs": [
    {
     "data": {
      "text/plain": [
       "[1.1,\n",
       " 1.0,\n",
       " 0.9000000000000001,\n",
       " 0.8,\n",
       " 0.7000000000000001,\n",
       " 0.6000000000000001,\n",
       " 0.5,\n",
       " 0.4,\n",
       " 0.30000000000000004,\n",
       " 0.20000000000000007]"
      ]
     },
     "execution_count": 3,
     "metadata": {},
     "output_type": "execute_result"
    }
   ],
   "source": [
    "r1 = [1.1-z*0.1 for z in z1]\n",
    "r1"
   ]
  },
  {
   "cell_type": "markdown",
   "metadata": {},
   "source": [
    "Среднее арифметическое"
   ]
  },
  {
   "cell_type": "code",
   "execution_count": 4,
   "metadata": {},
   "outputs": [
    {
     "data": {
      "text/plain": [
       "[0.6000000000000001,\n",
       " 0.6,\n",
       " 0.6000000000000001,\n",
       " 0.6000000000000001,\n",
       " 0.6000000000000001,\n",
       " 0.6000000000000001,\n",
       " 0.6000000000000001,\n",
       " 0.6000000000000001,\n",
       " 0.6000000000000001,\n",
       " 0.6000000000000001]"
      ]
     },
     "execution_count": 4,
     "metadata": {},
     "output_type": "execute_result"
    }
   ],
   "source": [
    "a = [(p1[z]+r1[z])/2 for z in z1]\n",
    "a"
   ]
  },
  {
   "cell_type": "markdown",
   "metadata": {},
   "source": [
    "Среднее гармоническое"
   ]
  },
  {
   "cell_type": "code",
   "execution_count": 5,
   "metadata": {},
   "outputs": [
    {
     "data": {
      "text/plain": [
       "[0.09166666666666666,\n",
       " 0.16666666666666669,\n",
       " 0.22500000000000003,\n",
       " 0.26666666666666666,\n",
       " 0.29166666666666663,\n",
       " 0.3,\n",
       " 0.29166666666666663,\n",
       " 0.26666666666666666,\n",
       " 0.22500000000000003,\n",
       " 0.16666666666666669]"
      ]
     },
     "execution_count": 5,
     "metadata": {},
     "output_type": "execute_result"
    }
   ],
   "source": [
    "g = [(p1[z] * r1[z])/(p1[z]+r1[z]) for z in z1]\n",
    "g"
   ]
  },
  {
   "cell_type": "markdown",
   "metadata": {},
   "source": [
    "### Вывод:\n",
    "Видно, что при среднем арифметическом крайние значения Recall и Precision не влияют на конечную метрику. Среднее гармоническое показывает более подробную картину. Конечная метрика сильнее реагирует на экстремальные значения."
   ]
  }
 ],
 "metadata": {
  "kernelspec": {
   "display_name": "Python 3",
   "language": "python",
   "name": "python3"
  },
  "language_info": {
   "codemirror_mode": {
    "name": "ipython",
    "version": 3
   },
   "file_extension": ".py",
   "mimetype": "text/x-python",
   "name": "python",
   "nbconvert_exporter": "python",
   "pygments_lexer": "ipython3",
   "version": "3.8.5"
  }
 },
 "nbformat": 4,
 "nbformat_minor": 4
}
